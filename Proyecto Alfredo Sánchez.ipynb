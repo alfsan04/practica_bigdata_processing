{
 "cells": [
  {
   "cell_type": "code",
   "execution_count": 1,
   "id": "b63d464e",
   "metadata": {},
   "outputs": [],
   "source": [
    "import findspark\n",
    "findspark.init()\n",
    "import pyspark"
   ]
  },
  {
   "cell_type": "code",
   "execution_count": 2,
   "id": "1b9d7e85",
   "metadata": {},
   "outputs": [],
   "source": [
    "from pyspark.sql import SparkSession\n",
    "\n",
    "# Crear o recuperar una SparkSession\n",
    "spark = SparkSession.builder.master(\"local[*]\").appName(\"WorldHappinessReport\").getOrCreate()\n",
    "\n",
    "# Leer el archivo CSV usando SparkSession\n",
    "df = spark.read.option(\"header\",\"true\").csv('world-happiness-report-2021.csv', header=True, inferSchema=\"true\")\n"
   ]
  },
  {
   "cell_type": "code",
   "execution_count": 3,
   "id": "4015d232",
   "metadata": {},
   "outputs": [
    {
     "name": "stdout",
     "output_type": "stream",
     "text": [
      "root\n",
      " |-- Country name: string (nullable = true)\n",
      " |-- Regional indicator: string (nullable = true)\n",
      " |-- Ladder score: double (nullable = true)\n",
      " |-- Standard error of ladder score: double (nullable = true)\n",
      " |-- upperwhisker: double (nullable = true)\n",
      " |-- lowerwhisker: double (nullable = true)\n",
      " |-- Logged GDP per capita: double (nullable = true)\n",
      " |-- Social support: double (nullable = true)\n",
      " |-- Healthy life expectancy: double (nullable = true)\n",
      " |-- Freedom to make life choices: double (nullable = true)\n",
      " |-- Generosity: double (nullable = true)\n",
      " |-- Perceptions of corruption: double (nullable = true)\n",
      " |-- Ladder score in Dystopia: double (nullable = true)\n",
      " |-- Explained by: Log GDP per capita: double (nullable = true)\n",
      " |-- Explained by: Social support: double (nullable = true)\n",
      " |-- Explained by: Healthy life expectancy: double (nullable = true)\n",
      " |-- Explained by: Freedom to make life choices: double (nullable = true)\n",
      " |-- Explained by: Generosity: double (nullable = true)\n",
      " |-- Explained by: Perceptions of corruption: double (nullable = true)\n",
      " |-- Dystopia + residual: double (nullable = true)\n",
      "\n"
     ]
    }
   ],
   "source": [
    "df.printSchema()"
   ]
  },
  {
   "cell_type": "code",
   "execution_count": 4,
   "id": "4504471e",
   "metadata": {},
   "outputs": [],
   "source": [
    "df.createOrReplaceTempView(\"df\")"
   ]
  },
  {
   "cell_type": "markdown",
   "id": "652c2ba0",
   "metadata": {},
   "source": [
    "## Apartado 1: país más feliz del 2021"
   ]
  },
  {
   "cell_type": "code",
   "execution_count": 5,
   "id": "b52d4ccd",
   "metadata": {},
   "outputs": [],
   "source": [
    "mas_feliz=spark.sql(\"SELECT `Country name`, max(`Ladder score`) FROM df group by `Country name` order by max(`Ladder score`) desc\")"
   ]
  },
  {
   "cell_type": "code",
   "execution_count": 6,
   "id": "ebf6d2cc",
   "metadata": {},
   "outputs": [
    {
     "name": "stdout",
     "output_type": "stream",
     "text": [
      "+--------------+-----------------+\n",
      "|  Country name|max(Ladder score)|\n",
      "+--------------+-----------------+\n",
      "|       Finland|            7.842|\n",
      "|       Denmark|             7.62|\n",
      "|   Switzerland|            7.571|\n",
      "|       Iceland|            7.554|\n",
      "|   Netherlands|            7.464|\n",
      "|        Norway|            7.392|\n",
      "|        Sweden|            7.363|\n",
      "|    Luxembourg|            7.324|\n",
      "|   New Zealand|            7.277|\n",
      "|       Austria|            7.268|\n",
      "|     Australia|            7.183|\n",
      "|        Israel|            7.157|\n",
      "|       Germany|            7.155|\n",
      "|        Canada|            7.103|\n",
      "|       Ireland|            7.085|\n",
      "|    Costa Rica|            7.069|\n",
      "|United Kingdom|            7.064|\n",
      "|Czech Republic|            6.965|\n",
      "| United States|            6.951|\n",
      "|       Belgium|            6.834|\n",
      "+--------------+-----------------+\n",
      "only showing top 20 rows\n",
      "\n"
     ]
    }
   ],
   "source": [
    "mas_feliz.show()"
   ]
  },
  {
   "cell_type": "markdown",
   "id": "6cd6b5ec",
   "metadata": {},
   "source": [
    "El país más feliz del mundo en 2021 es Finlandia, seguido por u grupo de países europeos con alguna excepción. Es interesante ver cómo, por lo general, también en este parámetro se respeta el clásico norte - rico, sur - pobre. En términos de felicidad y bajo los parámetros medidos, el norte también es más feliz que el sur. También podríamos incidir en que países más fríos, pese a lo que se ha ido vendiendo amparado por términos como índice de suicidios, son más felices, aunque correlación no implica causalidad y puede que el clima sea una variable irrelevante frente a otras como PIB, renta mínima, sistema de salud, educación..."
   ]
  },
  {
   "cell_type": "markdown",
   "id": "881c1919",
   "metadata": {},
   "source": [
    "## Apartado 2: país más feliz por continente"
   ]
  },
  {
   "cell_type": "code",
   "execution_count": 7,
   "id": "a7aa79cb",
   "metadata": {},
   "outputs": [],
   "source": [
    "mas_feliz_continente=spark.sql(\"SELECT `Regional indicator`, `Country name`, max(`Ladder score`) FROM df group by `Country name`,`Regional indicator` order by max(`Ladder score`) desc\")"
   ]
  },
  {
   "cell_type": "code",
   "execution_count": 8,
   "id": "cec384dd",
   "metadata": {},
   "outputs": [
    {
     "name": "stdout",
     "output_type": "stream",
     "text": [
      "+----------------------------------+------------------------+-----------------+\n",
      "|Regional indicator                |Country name            |max(Ladder score)|\n",
      "+----------------------------------+------------------------+-----------------+\n",
      "|Western Europe                    |Finland                 |7.842            |\n",
      "|Western Europe                    |Denmark                 |7.62             |\n",
      "|Western Europe                    |Switzerland             |7.571            |\n",
      "|Western Europe                    |Iceland                 |7.554            |\n",
      "|Western Europe                    |Netherlands             |7.464            |\n",
      "|Western Europe                    |Norway                  |7.392            |\n",
      "|Western Europe                    |Sweden                  |7.363            |\n",
      "|Western Europe                    |Luxembourg              |7.324            |\n",
      "|North America and ANZ             |New Zealand             |7.277            |\n",
      "|Western Europe                    |Austria                 |7.268            |\n",
      "|North America and ANZ             |Australia               |7.183            |\n",
      "|Middle East and North Africa      |Israel                  |7.157            |\n",
      "|Western Europe                    |Germany                 |7.155            |\n",
      "|North America and ANZ             |Canada                  |7.103            |\n",
      "|Western Europe                    |Ireland                 |7.085            |\n",
      "|Latin America and Caribbean       |Costa Rica              |7.069            |\n",
      "|Western Europe                    |United Kingdom          |7.064            |\n",
      "|Central and Eastern Europe        |Czech Republic          |6.965            |\n",
      "|North America and ANZ             |United States           |6.951            |\n",
      "|Western Europe                    |Belgium                 |6.834            |\n",
      "|Western Europe                    |France                  |6.69             |\n",
      "|Middle East and North Africa      |Bahrain                 |6.647            |\n",
      "|Western Europe                    |Malta                   |6.602            |\n",
      "|East Asia                         |Taiwan Province of China|6.584            |\n",
      "|Middle East and North Africa      |United Arab Emirates    |6.561            |\n",
      "|Middle East and North Africa      |Saudi Arabia            |6.494            |\n",
      "|Western Europe                    |Spain                   |6.491            |\n",
      "|Western Europe                    |Italy                   |6.483            |\n",
      "|Central and Eastern Europe        |Slovenia                |6.461            |\n",
      "|Latin America and Caribbean       |Guatemala               |6.435            |\n",
      "|Latin America and Caribbean       |Uruguay                 |6.431            |\n",
      "|Southeast Asia                    |Singapore               |6.377            |\n",
      "|Central and Eastern Europe        |Kosovo                  |6.372            |\n",
      "|Central and Eastern Europe        |Slovakia                |6.331            |\n",
      "|Latin America and Caribbean       |Brazil                  |6.33             |\n",
      "|Latin America and Caribbean       |Mexico                  |6.317            |\n",
      "|Latin America and Caribbean       |Jamaica                 |6.309            |\n",
      "|Central and Eastern Europe        |Lithuania               |6.255            |\n",
      "|Western Europe                    |Cyprus                  |6.223            |\n",
      "|Central and Eastern Europe        |Estonia                 |6.189            |\n",
      "|Latin America and Caribbean       |Panama                  |6.18             |\n",
      "|Commonwealth of Independent States|Uzbekistan              |6.179            |\n",
      "|Latin America and Caribbean       |Chile                   |6.172            |\n",
      "|Central and Eastern Europe        |Poland                  |6.166            |\n",
      "|Commonwealth of Independent States|Kazakhstan              |6.152            |\n",
      "|Central and Eastern Europe        |Romania                 |6.14             |\n",
      "|Middle East and North Africa      |Kuwait                  |6.106            |\n",
      "|Central and Eastern Europe        |Serbia                  |6.078            |\n",
      "|Latin America and Caribbean       |El Salvador             |6.061            |\n",
      "|Sub-Saharan Africa                |Mauritius               |6.049            |\n",
      "+----------------------------------+------------------------+-----------------+\n",
      "only showing top 50 rows\n",
      "\n"
     ]
    }
   ],
   "source": [
    "mas_feliz_continente.show(50,truncate=False)"
   ]
  },
  {
   "cell_type": "markdown",
   "id": "ab849a0a",
   "metadata": {},
   "source": [
    "Se pueden observar los diferentes índices de felicidad de múltiples países ceñidos a regiones. Es complejo ordenar por continentes pues los datos vienen agrupados bajo ciertos parámetros que no corresponden estrictamente a continentes sino a zonas geográficas, por lo que habría que elaborar un listado de países por continente y cotejar o bien hacerlo manualmente obtenida la clasificación.  \n",
    "El primer país europeo: Finlandia  \n",
    "El primer país americano: Canadá  \n",
    "El primer país asiático: Taiwán  \n",
    "El primer país africano: Bahréin  \n",
    "El primer país de oceanía: Nueva Zelanda"
   ]
  },
  {
   "cell_type": "markdown",
   "id": "5f2340b4",
   "metadata": {},
   "source": [
    "## Apartado 3: país que más veces ocupó el primer lugar en todos los años"
   ]
  },
  {
   "cell_type": "code",
   "execution_count": 9,
   "id": "711e8ad6",
   "metadata": {},
   "outputs": [
    {
     "name": "stdout",
     "output_type": "stream",
     "text": [
      "+------------+-----------+-------------+\n",
      "|Country name|top_country|country_count|\n",
      "+------------+-----------+-------------+\n",
      "|     Denmark|          1|            7|\n",
      "|     Finland|          1|            6|\n",
      "|      Norway|          1|            1|\n",
      "| Switzerland|          1|            1|\n",
      "|      Canada|          1|            1|\n",
      "+------------+-----------+-------------+\n",
      "\n"
     ]
    }
   ],
   "source": [
    "from pyspark.sql import SparkSession\n",
    "from pyspark.sql.window import Window\n",
    "from pyspark.sql import functions as F\n",
    "\n",
    "# Inicializamos la sesión de spark y cargamos el CSV\n",
    "spark = SparkSession.builder.appName(\"mas_feliz_n_veces\").getOrCreate()\n",
    "df_total = spark.read.option('header','true').csv('world-happiness-report.csv', header=True, inferSchema='true')\n",
    "\n",
    "# Especificamos la ventana y asignamos números a las filas en función de la misma\n",
    "windowSpec = Window.partitionBy(\"year\").orderBy(F.desc(\"Life Ladder\"))\n",
    "df_total = df_total.withColumn(\"top_country\", F.row_number().over(windowSpec))\n",
    "\n",
    "# Filtramos por aquellos países que tienen un 1 asginado (han estado primeros al menos una vez)\n",
    "mas_feliz_n_veces = df_total.filter(F.col(\"top_country\") == 1)\n",
    "\n",
    "# Agrupamos todos los filtrados por país\n",
    "countFirstYear = mas_feliz_n_veces.groupBy(\"Country name\", \"top_country\").agg(F.count(\"*\").alias(\"country_count\")).orderBy(F.desc(\"country_count\"))\n",
    "\n",
    "# Mostramos el resultado\n",
    "countFirstYear.show()\n"
   ]
  },
  {
   "cell_type": "markdown",
   "id": "8c3973f2",
   "metadata": {},
   "source": [
    "El país que más veces ha estado en primera posición es Dinamarca con 7 apariciones, seguido de Finlandia con 6. De nuevo los países nórdicos al frente... ¡con el frío que hace ahí!"
   ]
  },
  {
   "cell_type": "markdown",
   "id": "eb1b888a",
   "metadata": {},
   "source": [
    "## Apartado 4: ¿Qué puesto de Felicidad tiene el país con mayor GDP del 2020?"
   ]
  },
  {
   "cell_type": "code",
   "execution_count": 10,
   "id": "6bfe2820",
   "metadata": {},
   "outputs": [
    {
     "name": "stdout",
     "output_type": "stream",
     "text": [
      "+--------------------+-----------------------+\n",
      "|        Country name|max(Log GDP per capita)|\n",
      "+--------------------+-----------------------+\n",
      "|             Ireland|                 11.323|\n",
      "|         Switzerland|                 11.081|\n",
      "|United Arab Emirates|                 11.053|\n",
      "|              Norway|                 11.042|\n",
      "|       United States|                 11.001|\n",
      "+--------------------+-----------------------+\n",
      "only showing top 5 rows\n",
      "\n"
     ]
    }
   ],
   "source": [
    "df_total = spark.read.option('header','true').csv('world-happiness-report.csv', header=True, inferSchema='true')\n",
    "df_total.createOrReplaceTempView('df_total')\n",
    "ordenados_por_GDP = spark.sql(\"SELECT `Country name`, max(`Log GDP per capita`) FROM df_total where year = 2020 group by `Country name` order by max(`Log GDP per capita`) desc\")\n",
    "ordenados_por_GDP.show(5)"
   ]
  },
  {
   "cell_type": "markdown",
   "id": "8b91d6b7",
   "metadata": {},
   "source": [
    "El país con el mayor GDP es Irlanda. Buscamos su posición en la lista de máxima felicidad"
   ]
  },
  {
   "cell_type": "code",
   "execution_count": 11,
   "id": "d6499a7c",
   "metadata": {},
   "outputs": [
    {
     "name": "stdout",
     "output_type": "stream",
     "text": [
      "+-------------+----------------+\n",
      "| Country name|max(Life Ladder)|\n",
      "+-------------+----------------+\n",
      "|      Denmark|           8.019|\n",
      "|      Finland|           7.889|\n",
      "|  Switzerland|           7.776|\n",
      "|       Norway|           7.678|\n",
      "|       Canada|            7.65|\n",
      "|  Netherlands|           7.631|\n",
      "|   Costa Rica|           7.615|\n",
      "|  New Zealand|           7.604|\n",
      "|      Iceland|           7.591|\n",
      "|      Ireland|           7.568|\n",
      "|       Sweden|            7.56|\n",
      "|United States|           7.513|\n",
      "|      Austria|           7.499|\n",
      "|    Venezuela|           7.478|\n",
      "|    Australia|            7.45|\n",
      "|       Mexico|           7.443|\n",
      "|       Israel|           7.433|\n",
      "|   Luxembourg|           7.404|\n",
      "|       Panama|           7.321|\n",
      "|      Germany|           7.312|\n",
      "+-------------+----------------+\n",
      "only showing top 20 rows\n",
      "\n"
     ]
    }
   ],
   "source": [
    "df_total = spark.read.option('header','true').csv('world-happiness-report.csv', header=True, inferSchema='true')\n",
    "df_total.createOrReplaceTempView('df_total')\n",
    "mas_feliz=spark.sql(\"SELECT `Country name`, max(`Life Ladder`) FROM df_total group by `Country name` order by max(`Life Ladder`) desc\")\n",
    "mas_feliz.show()"
   ]
  },
  {
   "cell_type": "markdown",
   "id": "a91bde67",
   "metadata": {},
   "source": [
    "Irlanda ocupa la posición 10 en la lista de países más felices."
   ]
  },
  {
   "cell_type": "markdown",
   "id": "89f59d47",
   "metadata": {},
   "source": [
    "# Artículo en Medium"
   ]
  },
  {
   "cell_type": "markdown",
   "id": "78f08604",
   "metadata": {},
   "source": [
    "Aquí está el [breve artículo escrito en Medium](https://medium.com/@alfsan04/producto-interior-bruto-o-%C3%ADndices-de-felicidad-ccc7661b0e02) respecto a la práctica elaborada."
   ]
  }
 ],
 "metadata": {
  "kernelspec": {
   "display_name": "Python 3 (ipykernel)",
   "language": "python",
   "name": "python3"
  },
  "language_info": {
   "codemirror_mode": {
    "name": "ipython",
    "version": 3
   },
   "file_extension": ".py",
   "mimetype": "text/x-python",
   "name": "python",
   "nbconvert_exporter": "python",
   "pygments_lexer": "ipython3",
   "version": "3.9.13"
  }
 },
 "nbformat": 4,
 "nbformat_minor": 5
}
